{
  "cells": [
    {
      "cell_type": "code",
      "source": [
        "%pip install -i https://pypi.gurobi.com gurobipy"
      ],
      "metadata": {
        "colab": {
          "base_uri": "https://localhost:8080/"
        },
        "id": "-o4bpgquppfQ",
        "outputId": "854202d1-cde8-46fd-85ef-f3fa94fb03d4"
      },
      "execution_count": 4,
      "outputs": [
        {
          "output_type": "stream",
          "name": "stdout",
          "text": [
            "Looking in indexes: https://pypi.gurobi.com\n",
            "Collecting gurobipy\n",
            "  Downloading gurobipy-9.5.1-cp37-cp37m-manylinux2014_x86_64.whl (11.5 MB)\n",
            "\u001b[K     |████████████████████████████████| 11.5 MB 4.7 MB/s \n",
            "\u001b[?25hInstalling collected packages: gurobipy\n",
            "Successfully installed gurobipy-9.5.1\n"
          ]
        }
      ]
    },
    {
      "cell_type": "code",
      "execution_count": 5,
      "metadata": {
        "id": "adkXR66SpKFB"
      },
      "outputs": [],
      "source": [
        "import numpy as np\n",
        "import matplotlib.pyplot as plt\n",
        "import pandas as pd\n",
        "import math\n",
        "import scipy.sparse as sp\n",
        "import gurobipy as gp\n",
        "from gurobipy import *\n",
        "from scipy.interpolate import CubicSpline\n",
        "from scipy import stats\n",
        "from datetime import datetime\n",
        "import numpy as np\n",
        "import pandas as pd\n",
        "from datetime import datetime\n",
        "import matplotlib.pyplot as plt\n",
        "import math\n",
        "import torch\n",
        "import torch.nn as nn\n",
        "import torch.nn.functional as F\n",
        "import torch.optim as optim\n",
        "import torch.nn.init as init\n",
        "import json\n",
        "import time\n",
        "import os\n",
        "import random"
      ]
    },
    {
      "cell_type": "code",
      "execution_count": 6,
      "metadata": {
        "id": "NEey4x67PcCy"
      },
      "outputs": [],
      "source": [
        "df = pd.read_csv(\"^STOXX50E.csv\")"
      ]
    },
    {
      "cell_type": "code",
      "execution_count": 7,
      "metadata": {
        "id": "YMGdxB9oPcCz",
        "outputId": "4002f8e2-d32d-42a7-9e23-ab963dbd3802",
        "colab": {
          "base_uri": "https://localhost:8080/",
          "height": 206
        }
      },
      "outputs": [
        {
          "output_type": "execute_result",
          "data": {
            "text/html": [
              "\n",
              "  <div id=\"df-7ace3a23-255b-4da4-b072-ce552dde1b02\">\n",
              "    <div class=\"colab-df-container\">\n",
              "      <div>\n",
              "<style scoped>\n",
              "    .dataframe tbody tr th:only-of-type {\n",
              "        vertical-align: middle;\n",
              "    }\n",
              "\n",
              "    .dataframe tbody tr th {\n",
              "        vertical-align: top;\n",
              "    }\n",
              "\n",
              "    .dataframe thead th {\n",
              "        text-align: right;\n",
              "    }\n",
              "</style>\n",
              "<table border=\"1\" class=\"dataframe\">\n",
              "  <thead>\n",
              "    <tr style=\"text-align: right;\">\n",
              "      <th></th>\n",
              "      <th>Date</th>\n",
              "      <th>Open</th>\n",
              "      <th>High</th>\n",
              "      <th>Low</th>\n",
              "      <th>Close</th>\n",
              "      <th>Adj Close</th>\n",
              "      <th>Volume</th>\n",
              "    </tr>\n",
              "  </thead>\n",
              "  <tbody>\n",
              "    <tr>\n",
              "      <th>0</th>\n",
              "      <td>1986-12-31</td>\n",
              "      <td>900.820007</td>\n",
              "      <td>900.820007</td>\n",
              "      <td>900.820007</td>\n",
              "      <td>900.820007</td>\n",
              "      <td>900.820007</td>\n",
              "      <td>0.0</td>\n",
              "    </tr>\n",
              "    <tr>\n",
              "      <th>1</th>\n",
              "      <td>1987-01-01</td>\n",
              "      <td>900.820007</td>\n",
              "      <td>900.820007</td>\n",
              "      <td>900.820007</td>\n",
              "      <td>900.820007</td>\n",
              "      <td>900.820007</td>\n",
              "      <td>0.0</td>\n",
              "    </tr>\n",
              "    <tr>\n",
              "      <th>2</th>\n",
              "      <td>1987-01-02</td>\n",
              "      <td>891.780029</td>\n",
              "      <td>891.780029</td>\n",
              "      <td>891.780029</td>\n",
              "      <td>891.780029</td>\n",
              "      <td>891.780029</td>\n",
              "      <td>0.0</td>\n",
              "    </tr>\n",
              "    <tr>\n",
              "      <th>3</th>\n",
              "      <td>1987-01-05</td>\n",
              "      <td>898.330017</td>\n",
              "      <td>898.330017</td>\n",
              "      <td>898.330017</td>\n",
              "      <td>898.330017</td>\n",
              "      <td>898.330017</td>\n",
              "      <td>0.0</td>\n",
              "    </tr>\n",
              "    <tr>\n",
              "      <th>4</th>\n",
              "      <td>1987-01-06</td>\n",
              "      <td>902.320007</td>\n",
              "      <td>902.320007</td>\n",
              "      <td>902.320007</td>\n",
              "      <td>902.320007</td>\n",
              "      <td>902.320007</td>\n",
              "      <td>0.0</td>\n",
              "    </tr>\n",
              "  </tbody>\n",
              "</table>\n",
              "</div>\n",
              "      <button class=\"colab-df-convert\" onclick=\"convertToInteractive('df-7ace3a23-255b-4da4-b072-ce552dde1b02')\"\n",
              "              title=\"Convert this dataframe to an interactive table.\"\n",
              "              style=\"display:none;\">\n",
              "        \n",
              "  <svg xmlns=\"http://www.w3.org/2000/svg\" height=\"24px\"viewBox=\"0 0 24 24\"\n",
              "       width=\"24px\">\n",
              "    <path d=\"M0 0h24v24H0V0z\" fill=\"none\"/>\n",
              "    <path d=\"M18.56 5.44l.94 2.06.94-2.06 2.06-.94-2.06-.94-.94-2.06-.94 2.06-2.06.94zm-11 1L8.5 8.5l.94-2.06 2.06-.94-2.06-.94L8.5 2.5l-.94 2.06-2.06.94zm10 10l.94 2.06.94-2.06 2.06-.94-2.06-.94-.94-2.06-.94 2.06-2.06.94z\"/><path d=\"M17.41 7.96l-1.37-1.37c-.4-.4-.92-.59-1.43-.59-.52 0-1.04.2-1.43.59L10.3 9.45l-7.72 7.72c-.78.78-.78 2.05 0 2.83L4 21.41c.39.39.9.59 1.41.59.51 0 1.02-.2 1.41-.59l7.78-7.78 2.81-2.81c.8-.78.8-2.07 0-2.86zM5.41 20L4 18.59l7.72-7.72 1.47 1.35L5.41 20z\"/>\n",
              "  </svg>\n",
              "      </button>\n",
              "      \n",
              "  <style>\n",
              "    .colab-df-container {\n",
              "      display:flex;\n",
              "      flex-wrap:wrap;\n",
              "      gap: 12px;\n",
              "    }\n",
              "\n",
              "    .colab-df-convert {\n",
              "      background-color: #E8F0FE;\n",
              "      border: none;\n",
              "      border-radius: 50%;\n",
              "      cursor: pointer;\n",
              "      display: none;\n",
              "      fill: #1967D2;\n",
              "      height: 32px;\n",
              "      padding: 0 0 0 0;\n",
              "      width: 32px;\n",
              "    }\n",
              "\n",
              "    .colab-df-convert:hover {\n",
              "      background-color: #E2EBFA;\n",
              "      box-shadow: 0px 1px 2px rgba(60, 64, 67, 0.3), 0px 1px 3px 1px rgba(60, 64, 67, 0.15);\n",
              "      fill: #174EA6;\n",
              "    }\n",
              "\n",
              "    [theme=dark] .colab-df-convert {\n",
              "      background-color: #3B4455;\n",
              "      fill: #D2E3FC;\n",
              "    }\n",
              "\n",
              "    [theme=dark] .colab-df-convert:hover {\n",
              "      background-color: #434B5C;\n",
              "      box-shadow: 0px 1px 3px 1px rgba(0, 0, 0, 0.15);\n",
              "      filter: drop-shadow(0px 1px 2px rgba(0, 0, 0, 0.3));\n",
              "      fill: #FFFFFF;\n",
              "    }\n",
              "  </style>\n",
              "\n",
              "      <script>\n",
              "        const buttonEl =\n",
              "          document.querySelector('#df-7ace3a23-255b-4da4-b072-ce552dde1b02 button.colab-df-convert');\n",
              "        buttonEl.style.display =\n",
              "          google.colab.kernel.accessAllowed ? 'block' : 'none';\n",
              "\n",
              "        async function convertToInteractive(key) {\n",
              "          const element = document.querySelector('#df-7ace3a23-255b-4da4-b072-ce552dde1b02');\n",
              "          const dataTable =\n",
              "            await google.colab.kernel.invokeFunction('convertToInteractive',\n",
              "                                                     [key], {});\n",
              "          if (!dataTable) return;\n",
              "\n",
              "          const docLinkHtml = 'Like what you see? Visit the ' +\n",
              "            '<a target=\"_blank\" href=https://colab.research.google.com/notebooks/data_table.ipynb>data table notebook</a>'\n",
              "            + ' to learn more about interactive tables.';\n",
              "          element.innerHTML = '';\n",
              "          dataTable['output_type'] = 'display_data';\n",
              "          await google.colab.output.renderOutput(dataTable, element);\n",
              "          const docLink = document.createElement('div');\n",
              "          docLink.innerHTML = docLinkHtml;\n",
              "          element.appendChild(docLink);\n",
              "        }\n",
              "      </script>\n",
              "    </div>\n",
              "  </div>\n",
              "  "
            ],
            "text/plain": [
              "         Date        Open        High         Low       Close   Adj Close  \\\n",
              "0  1986-12-31  900.820007  900.820007  900.820007  900.820007  900.820007   \n",
              "1  1987-01-01  900.820007  900.820007  900.820007  900.820007  900.820007   \n",
              "2  1987-01-02  891.780029  891.780029  891.780029  891.780029  891.780029   \n",
              "3  1987-01-05  898.330017  898.330017  898.330017  898.330017  898.330017   \n",
              "4  1987-01-06  902.320007  902.320007  902.320007  902.320007  902.320007   \n",
              "\n",
              "   Volume  \n",
              "0     0.0  \n",
              "1     0.0  \n",
              "2     0.0  \n",
              "3     0.0  \n",
              "4     0.0  "
            ]
          },
          "metadata": {},
          "execution_count": 7
        }
      ],
      "source": [
        "df.head()"
      ]
    },
    {
      "cell_type": "code",
      "execution_count": 8,
      "metadata": {
        "id": "uFGDu1nJPcC0"
      },
      "outputs": [],
      "source": [
        "stoxx = df.Close\n",
        "stoxx_dates = df.Date"
      ]
    },
    {
      "cell_type": "code",
      "execution_count": 9,
      "metadata": {
        "id": "1ikWDcgxPcC1"
      },
      "outputs": [],
      "source": [
        "stoxx = stoxx.dropna()\n",
        "stoxx_dates = stoxx_dates.dropna()"
      ]
    },
    {
      "cell_type": "code",
      "execution_count": 10,
      "metadata": {
        "id": "Z6fdP9B0PcC1"
      },
      "outputs": [],
      "source": [
        "stoxx_dates = stoxx_dates[2087:len(stoxx)-78].values\n",
        "stoxx = stoxx[2087:len(stoxx)-78].values"
      ]
    },
    {
      "cell_type": "code",
      "execution_count": 11,
      "metadata": {
        "id": "cmP4q-z8PcC2",
        "outputId": "a2fc9ce6-681d-4bbc-9c55-f1a637633d2d",
        "colab": {
          "base_uri": "https://localhost:8080/",
          "height": 279
        }
      },
      "outputs": [
        {
          "output_type": "display_data",
          "data": {
            "image/png": "[encoded data removed]",
            "text/plain": [
              "<Figure size 432x288 with 1 Axes>"
            ]
          },
          "metadata": {
            "needs_background": "light"
          }
        }
      ],
      "source": [
        "plt.plot(stoxx)\n",
        "plt.xlabel('Time')\n",
        "plt.ylabel('EUROSTOXX 50')\n",
        "plt.show()"
      ]
    },
    {
      "cell_type": "code",
      "execution_count": 12,
      "metadata": {
        "colab": {
          "base_uri": "https://localhost:8080/",
          "height": 406
        },
        "outputId": "35510a12-6f01-443c-dcf4-93d4d37d71ea",
        "id": "FL0DrG7It6wV"
      },
      "outputs": [
        {
          "output_type": "execute_result",
          "data": {
            "text/plain": [
              "Text(0.5, 0, 'Return after 21 days')"
            ]
          },
          "metadata": {},
          "execution_count": 12
        },
        {
          "output_type": "display_data",
          "data": {
            "image/png": "[encoded data removed]",
            "text/plain": [
              "<Figure size 864x432 with 2 Axes>"
            ]
          },
          "metadata": {
            "needs_background": "light"
          }
        }
      ],
      "source": [
        "triple = np.zeros((3,len(stoxx)-21))\n",
        "for i in range(len(stoxx)-21):\n",
        "    triple[0,i] = 1\n",
        "    triple[1,i] = (stoxx[i+11]-stoxx[i])/stoxx[i]\n",
        "    triple[2,i] = (stoxx[i+21]-stoxx[i])/stoxx[i]\n",
        "\n",
        "plt.figure(figsize = (12,6))    \n",
        "plt.subplot(1,2,1)\n",
        "plt.hist(triple[1], bins=50)\n",
        "plt.xlabel('Return after 11 days')\n",
        "plt.subplot(1,2,2)\n",
        "plt.hist(triple[2], bins=50)\n",
        "plt.xlabel('Return after 21 days')"
      ]
    },
    {
      "cell_type": "code",
      "execution_count": 13,
      "metadata": {
        "id": "4ypTEc83t6wd"
      },
      "outputs": [],
      "source": [
        "def bandwith_nrd(vector):\n",
        "    r = np.quantile(vector, 0.25), np.quantile(vector, 0.75)\n",
        "    h = (r[1] - r[0])/1.34\n",
        "    return 4 * 1.06 * min(np.sqrt(np.var(vector,axis=0,ddof=1)), h) * np.power(len(vector),-0.2)"
      ]
    },
    {
      "cell_type": "code",
      "execution_count": 14,
      "metadata": {
        "id": "CvBCrjEPt6wd"
      },
      "outputs": [],
      "source": [
        "def kde2d_R(x, y, h = None, n=25, lim = None):\n",
        "    nx = len(x)\n",
        "    if lim is None:\n",
        "        lim = (x.min(),x.max(),y.min(),y.max())\n",
        "    gx = np.linspace(lim[0], lim[1], n)\n",
        "    gy = np.linspace(lim[2], lim[3], n)\n",
        "    if h is None:\n",
        "        h = np.array([bandwith_nrd(x), bandwith_nrd(y)])\n",
        "    elif len(h)==1:\n",
        "        h = np.array([h[0],h[0]])\n",
        "    elif len(h)==2:\n",
        "        h = np.array(h)\n",
        "    else:\n",
        "        print('Bandwidth Vector Length Error')\n",
        "        return\n",
        "    if any(h<=0):\n",
        "        print(\"Bandwidths Must Be Strictly Positive\")\n",
        "    h = h/4\n",
        "    ax = (gx.reshape(len(gx),1)-x.reshape(1,len(x)))/h[0]\n",
        "    ay = (gy.reshape(len(gy),1)-y.reshape(1,len(y)))/h[1]\n",
        "    z = (stats.norm.pdf(ax).reshape(-1,nx))@((stats.norm.pdf(ay).reshape(-1,nx)).T)\n",
        "    z = z/(nx*h[0]*h[1])\n",
        "    return gx,gy,z"
      ]
    },
    {
      "cell_type": "code",
      "execution_count": 15,
      "metadata": {
        "id": "s2-USjUgt6wd"
      },
      "outputs": [],
      "source": [
        "def kernel_estimation(last_days=60,today=60,nn=25, h_factor=1):\n",
        "    x = triple[1,(today-last_days-21):(today-21)]\n",
        "    y = triple[2,(today-last_days-21):(today-21)]\n",
        "    h = np.array([bandwith_nrd(x), bandwith_nrd(y)])\n",
        "    k = kde2d_R(x,y,h = h_factor*h, n=nn, \n",
        "             lim = (triple[1].min(), triple[1].max(), triple[2].min(), triple[2].max()))\n",
        "    return k"
      ]
    },
    {
      "cell_type": "code",
      "execution_count": 16,
      "metadata": {
        "id": "p3sy68_0t6wd"
      },
      "outputs": [],
      "source": [
        "def super_rep_robust(x,y,prob_set,func=lambda x,y: abs(x-y),stat_arb=True, lower=False,S_0=1,limit=float('Inf')):\n",
        "\n",
        "    n1 = len(x[0])\n",
        "    n2 = len(y[0])\n",
        "    N = prob_set.shape[0]\n",
        "    \n",
        "    costs = np.zeros((N,n1,n2))\n",
        "    for k in range(N):\n",
        "        for i in range(n1):\n",
        "            for j in range(n2):\n",
        "                costs[k,i,j] = func(x[k,i],y[k,j])\n",
        "    \n",
        "    r = np.zeros(n2*N)\n",
        "    A = np.zeros((n2*N,n1+2))\n",
        "    for k in range(N):\n",
        "        for j in range(n2):\n",
        "            if np.sum(prob_set[k,:,j])>0:\n",
        "                for i in range(n1):\n",
        "                    A[k*n2+j,i] = prob_set[k,i,j]/np.sum(prob_set[k,:,j])*(y[k,j]-x[k,i])\n",
        "                A[k*n2+j,n1] = np.sum(x[k]*prob_set[k,:,j]/np.sum(prob_set[k,:,j]))-S_0\n",
        "                A[k*n2+j,n1+1] = 1\n",
        "                r[k*n2+j] = np.sum(costs[k,:,j]*prob_set[k,:,j]/np.sum(prob_set[k,:,j]))\n",
        "    if lower:\n",
        "        obj = np.array([0]*(n1+1)+[1]).astype(np.float64)\n",
        "        m = gp.Model()\n",
        "        m.setParam('OutputFlag', 0)\n",
        "        m.setParam('DualReductions', 0)\n",
        "        x_var = m.addMVar(len(obj), ub=limit, lb = -limit)\n",
        "        m.setObjective(obj@x_var, GRB.MAXIMIZE)\n",
        "        m.addConstr((A*rec_scale)@x_var <= r)\n",
        "        m.update()\n",
        "        m.optimize()\n",
        "    else:\n",
        "        obj = np.array([0]*(n1+1)+[1]).astype(np.float64)\n",
        "        m = gp.Model()\n",
        "        m.setParam('OutputFlag', 0)\n",
        "        m.setParam('DualReductions', 0)\n",
        "        x_var = m.addMVar(len(obj), ub=limit, lb = -limit)\n",
        "        m.setObjective(obj@x_var, GRB.MINIMIZE)\n",
        "        m.addConstr(A@x_var >= r)\n",
        "        m.update()\n",
        "        m.optimize()\n",
        "    res = dict()\n",
        "    res['d'] = m.objVal\n",
        "    res['Delta_0'] = x_var.X[n1]\n",
        "    res['Delta_1'] = x_var.X[:n1]\n",
        "    res['x'] = x[0]\n",
        "    res['y'] = y[0]\n",
        "    return res"
      ]
    },
    {
      "cell_type": "code",
      "source": [
        "def stat_arb_success(begin=229*21,end=(286+1)*21,m=50,N=5,est_length_days=22,h_from=0.9,h_until=1.1,trading_limit=1):\n",
        "    f = 0\n",
        "    success = []\n",
        "    for month in range((end-begin)//22):\n",
        "        \n",
        "        day_begin=begin+month*22\n",
        "        day_end=begin+(month+1)*22-1\n",
        "        day_intermediate=int((day_begin+day_end)/2)+1\n",
        "        #print(stoxx_dates[day_begin], stoxx_dates[day_end])\n",
        "        h = np.linspace(h_from,h_until,N)\n",
        "        \n",
        "        S_0 = stoxx[day_begin]\n",
        "        prob_set = np.zeros((N,m,m))\n",
        "        x = np.zeros((N,m))\n",
        "        y = np.zeros((N,m))\n",
        "        h = np.linspace(h_from,h_until,N)\n",
        "        \n",
        "        for i in range(N):\n",
        "            grid_x,grid_y,grid_val = kernel_estimation(est_length_days,day_begin,m, h_factor=h[i])\n",
        "            x[i] = grid_x*stoxx[day_begin-21]+stoxx[day_begin-21]\n",
        "            y[i] = grid_y*stoxx[day_begin-21]+stoxx[day_begin-21]\n",
        "            prob_set[i] = grid_val/np.sum(grid_val)\n",
        "        \n",
        "        upper_bound = super_rep_robust(x,y,prob_set,lambda x,y:0,True,False,S_0,trading_limit)\n",
        "        Delta_0_upper = upper_bound['Delta_0']\n",
        "        Delta_1_upper = CubicSpline(upper_bound['x'],upper_bound['Delta_1'])\n",
        "        \n",
        "        success.append(Delta_0_upper*(stoxx[day_intermediate]-S_0)+Delta_1_upper(stoxx[day_intermediate])*(stoxx[day_end]-stoxx[day_intermediate]))\n",
        "        f+=success[-1]\n",
        "    \n",
        "    success = np.array(success)\n",
        "    res = dict()\n",
        "    res['Gain'] = f\n",
        "    res['Best'] = round(max(success),2)\n",
        "    res['Worst'] = round(min(success),2)\n",
        "    res['Average'] = round(np.mean(success),2)\n",
        "    res['loss_perc'] = round(100*float(np.sum(success<0)/len(success)),2)\n",
        "    res['gains_perc'] = round(100*float(np.sum(success>0)/len(success)),2)\n",
        "    res['sharp_ratio'] = round(np.sqrt(252.0/21)*success.mean()/success.std(),3)\n",
        "    res['sortino_ratio'] = round(np.sqrt(252.0/21)*success.mean()/success[success<0].std(),3)\n",
        "    return res"
      ],
      "metadata": {
        "id": "ZHQxVA__ei-s"
      },
      "execution_count": 17,
      "outputs": []
    },
    {
      "cell_type": "code",
      "execution_count": 18,
      "metadata": {
        "colab": {
          "base_uri": "https://localhost:8080/"
        },
        "outputId": "526825d7-70ab-435c-927b-a7c561926d16",
        "id": "2VBNejC9eYxn"
      },
      "outputs": [
        {
          "output_type": "stream",
          "name": "stdout",
          "text": [
            "Restricted license - for non-production use only - expires 2023-10-25\n",
            "15.75\n",
            "0.452\n"
          ]
        }
      ],
      "source": [
        "discretization_points = 50\n",
        "h2 = 0.95\n",
        "h3 = 1\n",
        "h4 = 1.05\n",
        "days = 50\n",
        "\n",
        "print(stat_arb_success(m=discretization_points,h_from=h2,h_until=h4,N=5,est_length_days=days)['Average'])\n",
        "print(stat_arb_success(m=discretization_points,h_from=h2,h_until=h4,N=5,est_length_days=days)['sharp_ratio'])\n",
        "\n",
        "# print(stat_arb_success(m=discretization_points,h_from=h2,h_until=h2,N=2,est_length_days=days)['Average'])\n",
        "# print(stat_arb_success(m=discretization_points,h_from=h2,h_until=h2,N=2,est_length_days=days)['sharp_ratio'])\n",
        "\n",
        "# print(stat_arb_success(m=discretization_points,h_from=h3,h_until=h3,N=2,est_length_days=days)['Average'])\n",
        "# print(stat_arb_success(m=discretization_points,h_from=h3,h_until=h3,N=2,est_length_days=days)['sharp_ratio'])\n",
        "\n",
        "# print(stat_arb_success(m=discretization_points,h_from=h4,h_until=h4,N=2,est_length_days=days)['Average'])\n",
        "# print(stat_arb_success(m=discretization_points,h_from=h4,h_until=h4,N=2,est_length_days=days)['sharp_ratio'])"
      ]
    },
    {
      "cell_type": "code",
      "source": [
        "discretization_points = 50\n",
        "h2 = 0.95\n",
        "h3 = 1\n",
        "h4 = 1.05\n",
        "\n",
        "avg_gain = []\n",
        "avg_gain_h2 = []\n",
        "avg_gain_h3 = []\n",
        "avg_gain_h4 = []\n",
        "days_sequence = list(range(11,101))\n",
        "\n",
        "for days in days_sequence:\n",
        "    print(days)\n",
        "    avg_gain.append(stat_arb_success(m=discretization_points,h_from=h2,h_until=h4,N=5,est_length_days=days)['Average'])\n",
        "    avg_gain_h2.append(stat_arb_success(m=discretization_points,h_from=h2,h_until=h2,N=2,est_length_days=days)['Average'])\n",
        "    avg_gain_h3.append(stat_arb_success(m=discretization_points,h_from=h3,h_until=h3,N=2,est_length_days=days)['Average'])\n",
        "    avg_gain_h4.append(stat_arb_success(m=discretization_points,h_from=h4,h_until=h4,N=2,est_length_days=days)['Average'])"
      ],
      "metadata": {
        "colab": {
          "base_uri": "https://localhost:8080/"
        },
        "outputId": "aed19aa5-327d-4766-84e1-65a79696126d",
        "id": "xDBavKG5ucCG"
      },
      "execution_count": 19,
      "outputs": [
        {
          "output_type": "stream",
          "name": "stdout",
          "text": [
            "11\n",
            "12\n",
            "13\n",
            "14\n",
            "15\n",
            "16\n",
            "17\n",
            "18\n",
            "19\n",
            "20\n",
            "21\n",
            "22\n",
            "23\n",
            "24\n",
            "25\n",
            "26\n",
            "27\n",
            "28\n",
            "29\n",
            "30\n",
            "31\n",
            "32\n",
            "33\n",
            "34\n",
            "35\n",
            "36\n",
            "37\n",
            "38\n",
            "39\n",
            "40\n",
            "41\n",
            "42\n",
            "43\n",
            "44\n",
            "45\n",
            "46\n",
            "47\n",
            "48\n",
            "49\n",
            "50\n",
            "51\n",
            "52\n",
            "53\n",
            "54\n",
            "55\n",
            "56\n",
            "57\n",
            "58\n",
            "59\n",
            "60\n",
            "61\n",
            "62\n",
            "63\n",
            "64\n",
            "65\n",
            "66\n",
            "67\n",
            "68\n",
            "69\n",
            "70\n",
            "71\n",
            "72\n",
            "73\n",
            "74\n",
            "75\n",
            "76\n",
            "77\n",
            "78\n",
            "79\n",
            "80\n",
            "81\n",
            "82\n",
            "83\n",
            "84\n",
            "85\n",
            "86\n",
            "87\n",
            "88\n",
            "89\n",
            "90\n",
            "91\n",
            "92\n",
            "93\n",
            "94\n",
            "95\n",
            "96\n",
            "97\n",
            "98\n",
            "99\n",
            "100\n"
          ]
        }
      ]
    },
    {
      "cell_type": "code",
      "execution_count": 20,
      "metadata": {
        "id": "LL6pe7FHucCH"
      },
      "outputs": [],
      "source": [
        "avg_gain = np.array(avg_gain)\n",
        "avg_gain_h2 = np.array(avg_gain_h2)\n",
        "avg_gain_h3 = np.array(avg_gain_h3)\n",
        "avg_gain_h4 = np.array(avg_gain_h4)\n",
        "\n",
        "indices = 2*np.arange(1,46)-1"
      ]
    },
    {
      "cell_type": "code",
      "execution_count": 21,
      "metadata": {
        "outputId": "cededbcc-4aa4-4e5b-ad21-39f66706b90a",
        "colab": {
          "base_uri": "https://localhost:8080/",
          "height": 336
        },
        "id": "KonvRojBucCH"
      },
      "outputs": [
        {
          "output_type": "display_data",
          "data": {
            "image/png": "[encoded data removed]",
            "text/plain": [
              "<Figure size 720x360 with 1 Axes>"
            ]
          },
          "metadata": {
            "needs_background": "light"
          }
        }
      ],
      "source": [
        "#Merge Outer\n",
        "plt.figure(figsize = (10,5))\n",
        "plt.plot(indices, avg_gain[indices],'k-', linewidth = 1.8, label = 'Robust')\n",
        "plt.plot(indices, avg_gain_h2[indices],'b--', linewidth = 1.2, label = '95%')\n",
        "plt.plot(indices, avg_gain_h3[indices],'g:', linewidth = 1.2, label = '100%')\n",
        "plt.plot(indices, avg_gain_h4[indices],'r-.', linewidth = 1.2, label = '105%')\n",
        "plt.grid(True)\n",
        "plt.title('D=21, Given Terminal Price Stn')\n",
        "plt.legend()\n",
        "plt.show()"
      ]
    },
    {
      "cell_type": "code",
      "source": [
        ""
      ],
      "metadata": {
        "id": "TrP16JebFOpF"
      },
      "execution_count": null,
      "outputs": []
    }
  ],
  "metadata": {
    "kernelspec": {
      "display_name": "Python 3",
      "language": "python",
      "name": "python3"
    },
    "language_info": {
      "codemirror_mode": {
        "name": "ipython",
        "version": 3
      },
      "file_extension": ".py",
      "mimetype": "text/x-python",
      "name": "python",
      "nbconvert_exporter": "python",
      "pygments_lexer": "ipython3",
      "version": "3.6.8"
    },
    "colab": {
      "name": "linear programming.ipynb",
      "provenance": [],
      "collapsed_sections": []
    }
  },
  "nbformat": 4,
  "nbformat_minor": 0
}